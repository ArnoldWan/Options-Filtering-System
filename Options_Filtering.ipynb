{
  "nbformat": 4,
  "nbformat_minor": 0,
  "metadata": {
    "colab": {
      "provenance": [],
      "toc_visible": true
    },
    "kernelspec": {
      "name": "python3",
      "display_name": "Python 3"
    },
    "language_info": {
      "name": "python"
    }
  },
  "cells": [
    {
      "cell_type": "markdown",
      "source": [
        "# Initialisation"
      ],
      "metadata": {
        "id": "93IBd-7eHO8e"
      }
    },
    {
      "cell_type": "code",
      "execution_count": 1,
      "metadata": {
        "colab": {
          "base_uri": "https://localhost:8080/"
        },
        "id": "XbOSGjbvHMIa",
        "outputId": "7df47d53-37a0-45b7-9e79-accae7c1e3f1"
      },
      "outputs": [
        {
          "output_type": "stream",
          "name": "stdout",
          "text": [
            "Mounted at /content/drive\n"
          ]
        }
      ],
      "source": [
        "from google.colab import drive\n",
        "drive.mount('/content/drive')"
      ]
    },
    {
      "cell_type": "code",
      "source": [
        "import yfinance as yf\n",
        "from google.colab import drive\n",
        "import gspread\n",
        "\n",
        "import os\n",
        "import pandas as pd\n",
        "import pandas_datareader as pdr\n",
        "import datetime\n",
        "import csv\n",
        "import pytz\n",
        "import json\n",
        "\n",
        "import sqlite3\n",
        "import numpy as np\n",
        "import concurrent.futures\n",
        "\n",
        "import requests\n",
        "from bs4 import BeautifulSoup\n",
        "\n",
        "database_path = \"/content/drive/MyDrive/Colab_Notebook/Data/SP500/stocks.db\"\n",
        "table_name = \"stocks\""
      ],
      "metadata": {
        "id": "cTAM4gzmHVZT"
      },
      "execution_count": 2,
      "outputs": []
    },
    {
      "cell_type": "markdown",
      "source": [
        "# Table Creation"
      ],
      "metadata": {
        "id": "uwmtjiV2HbJI"
      }
    },
    {
      "cell_type": "code",
      "source": [
        "# Create options historical data table\n",
        "def create_options_table(database_path):\n",
        "    # Connect to the SQLite database\n",
        "    conn = sqlite3.connect(database_path)\n",
        "    cursor = conn.cursor()\n",
        "\n",
        "    # Create table query\n",
        "    create_table_query = '''\n",
        "    CREATE TABLE IF NOT EXISTS historical_options (\n",
        "        id INTEGER PRIMARY KEY AUTOINCREMENT,\n",
        "        contractID TEXT,\n",
        "        symbol TEXT,\n",
        "        expiration DATE,\n",
        "        strike REAL,\n",
        "        type TEXT,\n",
        "        last REAL,\n",
        "        mark REAL,\n",
        "        bid REAL,\n",
        "        bid_size INTEGER,\n",
        "        ask REAL,\n",
        "        ask_size INTEGER,\n",
        "        volume INTEGER,\n",
        "        open_interest INTEGER,\n",
        "        date DATE,\n",
        "        implied_volatility REAL,\n",
        "        delta REAL,\n",
        "        gamma REAL,\n",
        "        theta REAL,\n",
        "        vega REAL,\n",
        "        rho REAL\n",
        "    );\n",
        "    '''\n",
        "\n",
        "    # Execute the create table query\n",
        "    cursor.execute(create_table_query)\n",
        "    conn.commit()\n",
        "\n",
        "    # Close the connection\n",
        "    cursor.close()\n",
        "    conn.close()\n",
        "\n",
        "    print(\"Table created successfully.\")\n",
        "\n",
        "# Call the function to create the table\n",
        "create_options_table(database_path)"
      ],
      "metadata": {
        "id": "HcYiese6Hc5f"
      },
      "execution_count": null,
      "outputs": []
    },
    {
      "cell_type": "markdown",
      "source": [
        "# Historical data import"
      ],
      "metadata": {
        "id": "VGYjksVJHhFY"
      }
    },
    {
      "cell_type": "code",
      "source": [
        "def validate_date(date_input):\n",
        "    # List of expected date formats\n",
        "    date_formats = ['%Y-%m-%d', '%Y%m%d', '%d%m%Y', '%m%d%Y', '%d-%m-%Y', '%m-%d-%Y']\n",
        "\n",
        "    # Try parsing the date with expected formats\n",
        "    for fmt in date_formats:\n",
        "        try:\n",
        "            # Parse date\n",
        "            parsed_date = datetime.datetime.strptime(date_input, fmt)\n",
        "            formatted_date = parsed_date.strftime('%Y-%m-%d')\n",
        "\n",
        "            # Check if parsed date is a weekend (Saturday or Sunday)\n",
        "            if parsed_date.weekday() >= 5:\n",
        "                return False, \"Weekend dates are not allowed. Please re-enter a valid date.\"\n",
        "\n",
        "            # If parsing is successful and not a weekend date, return the formatted date\n",
        "            return True, formatted_date\n",
        "        except ValueError:\n",
        "            continue\n",
        "\n",
        "    # If no format matched and could not parse the date\n",
        "    return False, \"Could not recognize the date format. Please re-enter the date.\"\n",
        "\n",
        "def validate_ticker_symbol(symbol):\n",
        "    ticker_data = yf.Ticker(symbol)\n",
        "    hist = ticker_data.history(period=\"5d\")\n",
        "    if hist.empty:\n",
        "        return False, \"Ticker symbol does not exist or no data available.\"\n",
        "    else:\n",
        "        return True, \"Ticker symbol is valid.\"\n",
        "\n",
        "def check_duplicate_entry(cursor, symbol, date):\n",
        "    cursor.execute('''\n",
        "        SELECT COUNT(*) FROM historical_options\n",
        "        WHERE symbol = ? AND date = ?\n",
        "    ''', (symbol, date))\n",
        "    count = cursor.fetchone()[0]\n",
        "    return count > 0\n",
        "\n",
        "def get_user_confirmation(formatted_date):\n",
        "    # Simulating a user interface element for confirmation\n",
        "    print(f\"Is the date {formatted_date} correct?\")\n",
        "    print(\"[Yes] Confirm and proceed\")\n",
        "    print(\"[No] Re-enter the date\")\n",
        "    # Here you would capture user input, e.g., via a button click in a GUI or a response in a CLI\n",
        "    user_input = input(\"Enter your choice (Yes/No): \").strip().lower()\n",
        "    return user_input == \"yes\"\n",
        "\n",
        "def is_weekend(date):\n",
        "    # Check if the date is a weekend (Saturday or Sunday)\n",
        "    return date.weekday() >= 5\n",
        "\n",
        "def fetch_and_store_options_data(database_path, api_key):\n",
        "    conn = sqlite3.connect(database_path, isolation_level=None)\n",
        "    cursor = conn.cursor()\n",
        "\n",
        "    while True:\n",
        "        symbol = input(\"Enter the ticker symbol (e.g., 'DELL'): \").upper()\n",
        "        is_valid_symbol, message_symbol = validate_ticker_symbol(symbol)\n",
        "        if not is_valid_symbol:\n",
        "            print(message_symbol)\n",
        "            continue\n",
        "        else:\n",
        "            break\n",
        "\n",
        "    while True:\n",
        "        from_date_input = input(\"Enter the start date (e.g., '2024-06-14'): \")\n",
        "        is_valid_from_date, formatted_from_date = validate_date(from_date_input)\n",
        "        if not is_valid_from_date:\n",
        "            print(formatted_from_date)\n",
        "            continue\n",
        "        else:\n",
        "            break\n",
        "\n",
        "    to_date_input = input(\"Enter the end date (leave blank for a single day): \")\n",
        "    if to_date_input.strip():\n",
        "        is_valid_to_date, formatted_to_date = validate_date(to_date_input)\n",
        "        if not is_valid_to_date:\n",
        "            print(formatted_to_date)\n",
        "            return\n",
        "    else:\n",
        "        formatted_to_date = formatted_from_date  # Default to from_date if to_date is not provided\n",
        "\n",
        "    # Check if the date range is too large for API limits\n",
        "    delta = datetime.datetime.strptime(formatted_to_date, '%Y-%m-%d') - datetime.datetime.strptime(formatted_from_date, '%Y-%m-%d')\n",
        "    if delta.days > 25:\n",
        "        print(\"Date range exceeds API call limit (25 days). Please enter a smaller date range.\")\n",
        "        return\n",
        "\n",
        "    current_date = datetime.datetime.strptime(formatted_from_date, '%Y-%m-%d')\n",
        "    end_date = datetime.datetime.strptime(formatted_to_date, '%Y-%m-%d')\n",
        "\n",
        "    print(f\"Fetching data from {formatted_from_date} to {formatted_to_date}...\")\n",
        "\n",
        "    while current_date <= end_date:\n",
        "        current_date_str = current_date.strftime('%Y-%m-%d')\n",
        "\n",
        "        if is_weekend(current_date):\n",
        "            print(f\"Skipping weekend date: {current_date_str}\")\n",
        "            current_date += datetime.timedelta(days=1)\n",
        "            continue\n",
        "\n",
        "        print(f\"Processing data for date: {current_date_str}\")\n",
        "\n",
        "        # Check for duplicate entry\n",
        "        if check_duplicate_entry(cursor, symbol, current_date_str):\n",
        "            print(f\"Data for symbol '{symbol}' and date '{current_date_str}' already exists in the database.\")\n",
        "        else:\n",
        "            print(f\"Symbol '{symbol}' and date '{current_date_str}' passed duplication checking.\")\n",
        "\n",
        "            # Continue with fetching and storing data...\n",
        "            # Example URL and params for API request\n",
        "            url = \"https://www.alphavantage.co/query\"\n",
        "            params = {\n",
        "                \"function\": \"HISTORICAL_OPTIONS\",\n",
        "                \"symbol\": symbol,\n",
        "                \"date\": current_date_str,\n",
        "                \"apikey\": api_key\n",
        "            }\n",
        "\n",
        "            print(f\"Making API request to fetch data for date: {current_date_str}...\")\n",
        "            try:\n",
        "                response = requests.get(url, params=params)\n",
        "                data = response.json()\n",
        "                if 'Note' in data or 'Error Message' in data:\n",
        "                    print(data.get('Note') or data.get('Error Message'))\n",
        "                    return\n",
        "            except requests.exceptions.RequestException as e:\n",
        "                print(f\"An error occurred while making the API request: {e}\")\n",
        "                return\n",
        "\n",
        "            print(f\"Data fetched successfully for date: {current_date_str}. Storing in database...\")\n",
        "            for entry in data.get('data', []):\n",
        "                cursor.execute('''\n",
        "                    INSERT INTO historical_options (\n",
        "                        contractID, symbol, expiration, strike, type, last, mark, bid, bid_size, ask, ask_size,\n",
        "                        volume, open_interest, date, implied_volatility, delta, gamma, theta, vega, rho\n",
        "                    ) VALUES (?, ?, ?, ?, ?, ?, ?, ?, ?, ?, ?, ?, ?, ?, ?, ?, ?, ?, ?, ?)\n",
        "                ''', (\n",
        "                    entry['contractID'], entry['symbol'], entry['expiration'], entry['strike'], entry['type'],\n",
        "                    entry['last'], entry['mark'], entry['bid'], entry['bid_size'], entry['ask'], entry['ask_size'],\n",
        "                    entry['volume'], entry['open_interest'], entry['date'], entry['implied_volatility'],\n",
        "                    entry['delta'], entry['gamma'], entry['theta'], entry['vega'], entry['rho']\n",
        "                ))\n",
        "\n",
        "            conn.commit()\n",
        "            print(f\"Data stored successfully in the database for date: {current_date_str}\")\n",
        "\n",
        "        # Move to the next date\n",
        "        current_date += datetime.timedelta(days=1)\n",
        "\n",
        "    cursor.close()\n",
        "    conn.close()\n",
        "\n",
        "api_key = 'H43KYGRNGLWUR13H'\n",
        "fetch_and_store_options_data(database_path, api_key)"
      ],
      "metadata": {
        "colab": {
          "base_uri": "https://localhost:8080/"
        },
        "id": "3RLXGaYJHoOJ",
        "outputId": "61529766-3ecb-4e52-cd7d-7946801b819b"
      },
      "execution_count": 16,
      "outputs": [
        {
          "output_type": "stream",
          "name": "stdout",
          "text": [
            "Enter the ticker symbol (e.g., 'DELL'): dell\n",
            "Enter the start date (e.g., '2024-06-14'): 20240606\n",
            "Enter the end date (leave blank for a single day): 20240612\n",
            "Fetching data from 2024-06-06 to 2024-06-12...\n",
            "Processing data for date: 2024-06-06\n",
            "Symbol 'DELL' and date '2024-06-06' passed duplication checking.\n",
            "Making API request to fetch data for date: 2024-06-06...\n",
            "Data fetched successfully for date: 2024-06-06. Storing in database...\n",
            "Data stored successfully in the database for date: 2024-06-06\n",
            "Processing data for date: 2024-06-07\n",
            "Symbol 'DELL' and date '2024-06-07' passed duplication checking.\n",
            "Making API request to fetch data for date: 2024-06-07...\n",
            "Data fetched successfully for date: 2024-06-07. Storing in database...\n",
            "Data stored successfully in the database for date: 2024-06-07\n",
            "Processing data for date: 2024-06-08\n",
            "Symbol 'DELL' and date '2024-06-08' passed duplication checking.\n",
            "Making API request to fetch data for date: 2024-06-08...\n",
            "Data fetched successfully for date: 2024-06-08. Storing in database...\n",
            "Data stored successfully in the database for date: 2024-06-08\n",
            "Processing data for date: 2024-06-09\n",
            "Symbol 'DELL' and date '2024-06-09' passed duplication checking.\n",
            "Making API request to fetch data for date: 2024-06-09...\n",
            "Data fetched successfully for date: 2024-06-09. Storing in database...\n",
            "Data stored successfully in the database for date: 2024-06-09\n",
            "Processing data for date: 2024-06-10\n",
            "Symbol 'DELL' and date '2024-06-10' passed duplication checking.\n",
            "Making API request to fetch data for date: 2024-06-10...\n",
            "Data fetched successfully for date: 2024-06-10. Storing in database...\n",
            "Data stored successfully in the database for date: 2024-06-10\n",
            "Processing data for date: 2024-06-11\n",
            "Symbol 'DELL' and date '2024-06-11' passed duplication checking.\n",
            "Making API request to fetch data for date: 2024-06-11...\n",
            "Data fetched successfully for date: 2024-06-11. Storing in database...\n",
            "Data stored successfully in the database for date: 2024-06-11\n",
            "Processing data for date: 2024-06-12\n",
            "Symbol 'DELL' and date '2024-06-12' passed duplication checking.\n",
            "Making API request to fetch data for date: 2024-06-12...\n",
            "Data fetched successfully for date: 2024-06-12. Storing in database...\n",
            "Data stored successfully in the database for date: 2024-06-12\n"
          ]
        }
      ]
    },
    {
      "cell_type": "markdown",
      "source": [
        "# Query data"
      ],
      "metadata": {
        "id": "2culPCjAHtcE"
      }
    },
    {
      "cell_type": "code",
      "source": [
        "# Inspect data in table\n",
        "def view_options_data(database_path):\n",
        "    # Connect to the SQLite database\n",
        "    conn = sqlite3.connect(database_path)\n",
        "    cursor = conn.cursor()\n",
        "\n",
        "    # Query to select all data from the table\n",
        "    select_query = 'SELECT symbol, date, count(*) FROM historical_options where symbol = \"DELL\" group by date;'\n",
        "    # select_query = 'SELECT * FROM historical_options;'\n",
        "    # select_query = 'SELECT * FROM historical_options where symbol = \"DELL\" and date = \"2024-06-17\";'\n",
        "\n",
        "    # Execute the query\n",
        "    cursor.execute(select_query)\n",
        "\n",
        "    # Get column names from cursor description\n",
        "    columns = [description[0] for description in cursor.description]\n",
        "\n",
        "    # Print column names\n",
        "    print(\", \".join(columns))\n",
        "\n",
        "    # Fetch all rows from the database\n",
        "    rows = cursor.fetchall()\n",
        "\n",
        "    # Print each row\n",
        "    for row in rows:\n",
        "        print(row)\n",
        "\n",
        "    # Close the connection\n",
        "    cursor.close()\n",
        "    conn.close()\n",
        "\n",
        "view_options_data(database_path)"
      ],
      "metadata": {
        "colab": {
          "base_uri": "https://localhost:8080/"
        },
        "id": "fdzLJQGSHwM0",
        "outputId": "071786d3-0235-47a9-ce70-05c6b57d0701"
      },
      "execution_count": 17,
      "outputs": [
        {
          "output_type": "stream",
          "name": "stdout",
          "text": [
            "symbol, date, count(*)\n",
            "('DELL', '2024-06-05', 1470)\n",
            "('DELL', '2024-06-06', 1538)\n",
            "('DELL', '2024-06-07', 1576)\n",
            "('DELL', '2024-06-10', 1464)\n",
            "('DELL', '2024-06-11', 1464)\n",
            "('DELL', '2024-06-12', 1470)\n",
            "('DELL', '2024-06-13', 1540)\n",
            "('DELL', '2024-06-14', 1584)\n",
            "('DELL', '2024-06-17', 1510)\n",
            "('DELL', '2024-06-18', 3020)\n"
          ]
        }
      ]
    },
    {
      "cell_type": "markdown",
      "source": [
        "# Duplication Checking"
      ],
      "metadata": {
        "id": "3SeMii86Lw8s"
      }
    },
    {
      "cell_type": "code",
      "source": [
        "def check_exact_duplicates_in_table(cursor):\n",
        "    cursor.execute('''\n",
        "        SELECT contractID, expiration, date, COUNT(*)\n",
        "        FROM historical_options\n",
        "        GROUP BY contractID, expiration, date\n",
        "        HAVING COUNT(*) > 1\n",
        "    ''')\n",
        "\n",
        "    duplicates = cursor.fetchall()\n",
        "\n",
        "    if duplicates:\n",
        "        print(\"Duplicates found based on contractID, expiration, and date:\")\n",
        "        for duplicate in duplicates:\n",
        "            print(f\"Contract ID: {duplicate[0]}, Expiration: {duplicate[1]}, Date: {duplicate[2]}, Count: {duplicate[3]}\")\n",
        "    else:\n",
        "        print(\"No duplicates found based on contractID, expiration, and date.\")\n",
        "\n",
        "# Example usage assuming 'database_path' is defined\n",
        "def main_check():\n",
        "    conn = sqlite3.connect(database_path)\n",
        "    cursor = conn.cursor()\n",
        "\n",
        "    check_exact_duplicates_in_table(cursor)\n",
        "\n",
        "    cursor.close()\n",
        "    conn.close()\n",
        "\n",
        "main_check()\n"
      ],
      "metadata": {
        "colab": {
          "base_uri": "https://localhost:8080/"
        },
        "id": "Jq6etMG6L4lh",
        "outputId": "bd169791-32b9-467a-d1df-3672a4a29480"
      },
      "execution_count": 11,
      "outputs": [
        {
          "output_type": "stream",
          "name": "stdout",
          "text": [
            "No duplicates found based on contractID, expiration, and date.\n"
          ]
        }
      ]
    }
  ]
}